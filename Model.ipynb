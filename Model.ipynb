{
  "nbformat": 4,
  "nbformat_minor": 0,
  "metadata": {
    "colab": {
      "provenance": [],
      "gpuType": "T4"
    },
    "kernelspec": {
      "name": "python3",
      "display_name": "Python 3"
    },
    "language_info": {
      "name": "python"
    },
    "accelerator": "GPU"
  },
  "cells": [
    {
      "cell_type": "code",
      "metadata": {
        "colab": {
          "base_uri": "https://localhost:8080/"
        },
        "id": "ba48f04e",
        "outputId": "64e48450-1e19-4fde-cfc4-3d2fb323724e"
      },
      "source": [
        "!pip install torch_geometric"
      ],
      "execution_count": 2,
      "outputs": [
        {
          "output_type": "stream",
          "name": "stdout",
          "text": [
            "Collecting torch_geometric\n",
            "  Downloading torch_geometric-2.6.1-py3-none-any.whl.metadata (63 kB)\n",
            "\u001b[?25l     \u001b[90m━━━━━━━━━━━━━━━━━━━━━━━━━━━━━━━━━━━━━━━━\u001b[0m \u001b[32m0.0/63.1 kB\u001b[0m \u001b[31m?\u001b[0m eta \u001b[36m-:--:--\u001b[0m\r\u001b[2K     \u001b[90m━━━━━━━━━━━━━━━━━━━━━━━━━━━━━━━━━━━━━━━━\u001b[0m \u001b[32m63.1/63.1 kB\u001b[0m \u001b[31m3.8 MB/s\u001b[0m eta \u001b[36m0:00:00\u001b[0m\n",
            "\u001b[?25hRequirement already satisfied: aiohttp in /usr/local/lib/python3.12/dist-packages (from torch_geometric) (3.12.15)\n",
            "Requirement already satisfied: fsspec in /usr/local/lib/python3.12/dist-packages (from torch_geometric) (2025.3.0)\n",
            "Requirement already satisfied: jinja2 in /usr/local/lib/python3.12/dist-packages (from torch_geometric) (3.1.6)\n",
            "Requirement already satisfied: numpy in /usr/local/lib/python3.12/dist-packages (from torch_geometric) (2.0.2)\n",
            "Requirement already satisfied: psutil>=5.8.0 in /usr/local/lib/python3.12/dist-packages (from torch_geometric) (5.9.5)\n",
            "Requirement already satisfied: pyparsing in /usr/local/lib/python3.12/dist-packages (from torch_geometric) (3.2.3)\n",
            "Requirement already satisfied: requests in /usr/local/lib/python3.12/dist-packages (from torch_geometric) (2.32.4)\n",
            "Requirement already satisfied: tqdm in /usr/local/lib/python3.12/dist-packages (from torch_geometric) (4.67.1)\n",
            "Requirement already satisfied: aiohappyeyeballs>=2.5.0 in /usr/local/lib/python3.12/dist-packages (from aiohttp->torch_geometric) (2.6.1)\n",
            "Requirement already satisfied: aiosignal>=1.4.0 in /usr/local/lib/python3.12/dist-packages (from aiohttp->torch_geometric) (1.4.0)\n",
            "Requirement already satisfied: attrs>=17.3.0 in /usr/local/lib/python3.12/dist-packages (from aiohttp->torch_geometric) (25.3.0)\n",
            "Requirement already satisfied: frozenlist>=1.1.1 in /usr/local/lib/python3.12/dist-packages (from aiohttp->torch_geometric) (1.7.0)\n",
            "Requirement already satisfied: multidict<7.0,>=4.5 in /usr/local/lib/python3.12/dist-packages (from aiohttp->torch_geometric) (6.6.4)\n",
            "Requirement already satisfied: propcache>=0.2.0 in /usr/local/lib/python3.12/dist-packages (from aiohttp->torch_geometric) (0.3.2)\n",
            "Requirement already satisfied: yarl<2.0,>=1.17.0 in /usr/local/lib/python3.12/dist-packages (from aiohttp->torch_geometric) (1.20.1)\n",
            "Requirement already satisfied: MarkupSafe>=2.0 in /usr/local/lib/python3.12/dist-packages (from jinja2->torch_geometric) (3.0.2)\n",
            "Requirement already satisfied: charset_normalizer<4,>=2 in /usr/local/lib/python3.12/dist-packages (from requests->torch_geometric) (3.4.3)\n",
            "Requirement already satisfied: idna<4,>=2.5 in /usr/local/lib/python3.12/dist-packages (from requests->torch_geometric) (3.10)\n",
            "Requirement already satisfied: urllib3<3,>=1.21.1 in /usr/local/lib/python3.12/dist-packages (from requests->torch_geometric) (2.5.0)\n",
            "Requirement already satisfied: certifi>=2017.4.17 in /usr/local/lib/python3.12/dist-packages (from requests->torch_geometric) (2025.8.3)\n",
            "Requirement already satisfied: typing-extensions>=4.2 in /usr/local/lib/python3.12/dist-packages (from aiosignal>=1.4.0->aiohttp->torch_geometric) (4.15.0)\n",
            "Downloading torch_geometric-2.6.1-py3-none-any.whl (1.1 MB)\n",
            "\u001b[2K   \u001b[90m━━━━━━━━━━━━━━━━━━━━━━━━━━━━━━━━━━━━━━━━\u001b[0m \u001b[32m1.1/1.1 MB\u001b[0m \u001b[31m41.9 MB/s\u001b[0m eta \u001b[36m0:00:00\u001b[0m\n",
            "\u001b[?25hInstalling collected packages: torch_geometric\n",
            "Successfully installed torch_geometric-2.6.1\n"
          ]
        }
      ]
    },
    {
      "cell_type": "code",
      "execution_count": 11,
      "metadata": {
        "id": "c3SL7uDr_JZl"
      },
      "outputs": [],
      "source": [
        "import torch\n",
        "import torch.nn as nn\n",
        "from torch_geometric.nn import GCNConv\n",
        "from torch_geometric.data import Data\n",
        "\n",
        "# Define the GNN Model (State Encoder)\n",
        "class GNNEncoder(nn.Module):\n",
        "    def __init__(self, in_channels, hidden_channels, out_channels):\n",
        "        super(GNNEncoder, self).__init__()\n",
        "        self.conv1 = GCNConv(in_channels, hidden_channels)\n",
        "        self.conv2 = GCNConv(hidden_channels, out_channels)\n",
        "        self.relu = nn.ReLU()\n",
        "\n",
        "    def forward(self, x, edge_index):\n",
        "        x = self.conv1(x, edge_index)\n",
        "        x = self.relu(x)\n",
        "        x = self.conv2(x, edge_index)\n",
        "        return x\n",
        "\n",
        "import torch.nn as nn\n",
        "\n",
        "# Redefine the RLAgent for a regression task\n",
        "class ArrivalTimeAgent(nn.Module):\n",
        "    def __init__(self, in_channels):\n",
        "        super(ArrivalTimeAgent, self).__init__()\n",
        "        self.linear1 = nn.Linear(in_channels, 64)\n",
        "        self.linear2 = nn.Linear(64, 1) # Output a single value\n",
        "\n",
        "    def forward(self, state_embedding):\n",
        "        x = self.linear1(state_embedding)\n",
        "        x = nn.functional.relu(x)\n",
        "        return self.linear2(x) # No softmax, this is a regression model\n",
        "\n",
        "import torch\n",
        "\n",
        "class TimePredictionModel(nn.Module):\n",
        "    def __init__(self, gnn_in_channels, gnn_hidden_channels, gnn_out_channels):\n",
        "        super(TimePredictionModel, self).__init__()\n",
        "        self.gnn_encoder = GNNEncoder(gnn_in_channels, gnn_hidden_channels, gnn_out_channels)\n",
        "        self.time_predictor = ArrivalTimeAgent(gnn_out_channels)\n",
        "\n",
        "    def forward(self, data):\n",
        "        gnn_output = self.gnn_encoder(data.x, data.edge_index)\n",
        "        global_state_embedding = gnn_output.mean(dim=0, keepdim=True)\n",
        "        predicted_time = self.time_predictor(global_state_embedding)\n",
        "        return predicted_time"
      ]
    },
    {
      "cell_type": "code",
      "source": [
        "# Assuming you have defined the model classes as in the previous step\n",
        "model_path = 'railway_traffic_model.pth'\n",
        "\n",
        "# Initialize the model with the same parameters used during training\n",
        "loaded_model = HybridModel(\n",
        "    gnn_in_channels=2,        # Matches the number of features in your node data (longitude, latitude)\n",
        "    gnn_hidden_channels=64,\n",
        "    gnn_out_channels=32,\n",
        "    num_actions=3             # Matches your three actions (pass, hold, reroute)\n",
        ")\n",
        "\n",
        "# Load the saved parameters from the .pth file\n",
        "loaded_model.load_state_dict(torch.load(model_path))\n",
        "\n",
        "# Set the model to evaluation mode\n",
        "loaded_model.eval()\n",
        "\n",
        "print(\"Model successfully loaded!\")\n",
        "print(loaded_model)"
      ],
      "metadata": {
        "colab": {
          "base_uri": "https://localhost:8080/"
        },
        "id": "PXny7kW7_McP",
        "outputId": "6cb5cc0f-520a-49b7-ba23-cac0191ff1ff"
      },
      "execution_count": 12,
      "outputs": [
        {
          "output_type": "stream",
          "name": "stdout",
          "text": [
            "Model successfully loaded!\n",
            "HybridModel(\n",
            "  (gnn_encoder): GNNEncoder(\n",
            "    (conv1): GCNConv(2, 64)\n",
            "    (conv2): GCNConv(64, 32)\n",
            "    (relu): ReLU()\n",
            "  )\n",
            "  (rl_agent): RLAgent(\n",
            "    (linear1): Linear(in_features=32, out_features=64, bias=True)\n",
            "    (linear2): Linear(in_features=64, out_features=3, bias=True)\n",
            "  )\n",
            ")\n"
          ]
        }
      ]
    },
    {
      "cell_type": "code",
      "metadata": {
        "colab": {
          "base_uri": "https://localhost:8080/"
        },
        "id": "da47e0f5",
        "outputId": "640baca0-33e6-4696-b019-c04c6603170c"
      },
      "source": [
        "# Create a dummy pyg_data object for demonstration\n",
        "# Replace this with your actual graph data\n",
        "edge_index = torch.tensor([[0, 1, 1, 2],\n",
        "                           [1, 0, 2, 1]], dtype=torch.long)\n",
        "x = torch.randn(3, 2) # 3 nodes, 2 features per node (e.g., longitude, latitude)\n",
        "pyg_data = Data(x=x, edge_index=edge_index)\n",
        "\n",
        "print(\"Sample pyg_data object created:\")\n",
        "print(pyg_data)"
      ],
      "execution_count": 13,
      "outputs": [
        {
          "output_type": "stream",
          "name": "stdout",
          "text": [
            "Sample pyg_data object created:\n",
            "Data(x=[3, 2], edge_index=[2, 4])\n"
          ]
        }
      ]
    },
    {
      "cell_type": "code",
      "source": [
        "# Assuming 'loaded_model' and a 'pyg_data' object are available\n",
        "\n",
        "# Make a prediction\n",
        "with torch.no_grad():\n",
        "    action_probabilities = loaded_model(pyg_data)\n",
        "\n",
        "print(\"Predicted action probabilities:\")\n",
        "print(action_probabilities)\n",
        "\n",
        "# Get the recommended action\n",
        "recommended_action_index = torch.argmax(action_probabilities, dim=1).item()\n",
        "\n",
        "print(\"\\nRecommended action:\")\n",
        "if recommended_action_index == 0:\n",
        "    print(\"0. Let train pass\")\n",
        "elif recommended_action_index == 1:\n",
        "    print(\"1. Hold train\")\n",
        "elif recommended_action_index == 2:\n",
        "    print(\"2. Reroute train\")"
      ],
      "metadata": {
        "colab": {
          "base_uri": "https://localhost:8080/"
        },
        "id": "NpoxUZXCAEtn",
        "outputId": "da257adb-60ce-4390-95b0-a60bcb54596f"
      },
      "execution_count": 15,
      "outputs": [
        {
          "output_type": "stream",
          "name": "stdout",
          "text": [
            "Predicted action probabilities:\n",
            "tensor([[0.3320, 0.2961, 0.3719]])\n",
            "\n",
            "Recommended action:\n",
            "2. Reroute train\n"
          ]
        }
      ]
    },
    {
      "cell_type": "markdown",
      "metadata": {
        "id": "6483ab83"
      },
      "source": [
        "# Task\n",
        "Visualize the train station before and after applying the model to show how conflicts are resolved."
      ]
    },
    {
      "cell_type": "markdown",
      "metadata": {
        "id": "6dfc3877"
      },
      "source": [
        "## Define visualization functions\n",
        "\n",
        "### Subtask:\n",
        "Create functions to visualize the graph, highlighting conflicts. This might involve using libraries like `matplotlib` or `networkx`.\n"
      ]
    },
    {
      "cell_type": "markdown",
      "metadata": {
        "id": "d365a730"
      },
      "source": [
        "**Reasoning**:\n",
        "Define a function to visualize the graph using networkx and matplotlib, highlighting conflicts.\n",
        "\n"
      ]
    },
    {
      "cell_type": "code",
      "metadata": {
        "colab": {
          "base_uri": "https://localhost:8080/",
          "height": 859
        },
        "id": "6f93bdb1",
        "outputId": "8c9943a9-87ed-4032-cab8-fcdda65c79a8"
      },
      "source": [
        "import networkx as nx\n",
        "import matplotlib.pyplot as plt\n",
        "\n",
        "def visualize_railway_graph(data, conflicted_edges=None, conflicted_nodes=None):\n",
        "    \"\"\"\n",
        "    Visualizes the railway graph, highlighting conflicts.\n",
        "\n",
        "    Args:\n",
        "        data (torch_geometric.data.Data): The graph data object.\n",
        "        conflicted_edges (list, optional): A list of tuples representing conflicted edges.\n",
        "                                          Each tuple should be (node1_index, node2_index).\n",
        "        conflicted_nodes (list, optional): A list of node indices that are in conflict.\n",
        "    \"\"\"\n",
        "    # Convert torch_geometric data to networkx graph\n",
        "    G = nx.Graph()\n",
        "    for i in range(data.x.size(0)):\n",
        "        G.add_node(i, features=data.x[i].tolist())\n",
        "\n",
        "    edge_list = data.edge_index.t().tolist()\n",
        "    G.add_edges_from(edge_list)\n",
        "\n",
        "    # Define node and edge colors\n",
        "    node_color = ['skyblue'] * G.number_of_nodes()\n",
        "    edge_color = ['gray'] * G.number_of_edges()\n",
        "    edge_width = [1] * G.number_of_edges()\n",
        "\n",
        "    # Highlight conflicted nodes\n",
        "    if conflicted_nodes:\n",
        "        for node_index in conflicted_nodes:\n",
        "            if node_index < len(node_color):\n",
        "                node_color[node_index] = 'red'\n",
        "\n",
        "    # Highlight conflicted edges\n",
        "    if conflicted_edges:\n",
        "        edges = list(G.edges())\n",
        "        for conflict_edge in conflicted_edges:\n",
        "            try:\n",
        "                # Find the index of the conflicted edge in the edge list\n",
        "                edge_index_in_list = edges.index(tuple(sorted(conflict_edge)))\n",
        "                edge_color[edge_index_in_list] = 'red'\n",
        "                edge_width[edge_index_in_list] = 2\n",
        "            except ValueError:\n",
        "                # Handle cases where the conflicted edge might not be in the graph's edge list\n",
        "                pass\n",
        "\n",
        "\n",
        "    # Use a layout for better visualization\n",
        "    pos = nx.spring_layout(G) # You can choose other layouts like spectral_layout, planar_layout, etc.\n",
        "\n",
        "    # Draw the graph\n",
        "    plt.figure(figsize=(10, 8))\n",
        "    nx.draw(G, pos, with_labels=True, node_color=node_color,\n",
        "            edge_color=edge_color, width=edge_width, node_size=700, font_size=10)\n",
        "    plt.title(\"Railway Graph with Conflicts Highlighted\")\n",
        "    plt.show()\n",
        "\n",
        "# Example usage with the dummy pyg_data\n",
        "# Assuming a conflict exists on edge (0, 1) and node 2\n",
        "conflicted_edges_example = [(0, 1)]\n",
        "conflicted_nodes_example = [2]\n",
        "\n",
        "visualize_railway_graph(pyg_data, conflicted_edges=conflicted_edges_example, conflicted_nodes=conflicted_nodes_example)"
      ],
      "execution_count": 7,
      "outputs": [
        {
          "output_type": "display_data",
          "data": {
            "text/plain": [
              "<Figure size 1000x800 with 1 Axes>"
            ],
            "image/png": "[encoded data removed]"
          },
          "metadata": {}
        }
      ]
    },
    {
      "cell_type": "markdown",
      "metadata": {
        "id": "428af0f1"
      },
      "source": [
        "**Reasoning**:\n",
        "The previous code block failed because `pyg_data` was not defined within the same cell. The `pyg_data` object was created in a previous cell. To fix this, the definition of `pyg_data` needs to be included in the same code block as the visualization function call.\n",
        "\n"
      ]
    },
    {
      "cell_type": "code",
      "metadata": {
        "colab": {
          "base_uri": "https://localhost:8080/",
          "height": 894
        },
        "id": "psMfXmWbrShj",
        "outputId": "bb5cde09-b586-4017-93c6-bec3152bc017"
      },
      "source": [
        "import networkx as nx\n",
        "import matplotlib.pyplot as plt\n",
        "from torch_geometric.data import Data\n",
        "import torch\n",
        "\n",
        "def visualize_railway_graph(data, conflicted_edges=None, conflicted_nodes=None):\n",
        "    \"\"\"\n",
        "    Visualizes the railway graph, highlighting conflicts.\n",
        "\n",
        "    Args:\n",
        "        data (torch_geometric.data.Data): The graph data object.\n",
        "        conflicted_edges (list, optional): A list of tuples representing conflicted edges.\n",
        "                                          Each tuple should be (node1_index, node2_index).\n",
        "        conflicted_nodes (list, optional): A list of node indices that are in conflict.\n",
        "    \"\"\"\n",
        "    # Convert torch_geometric data to networkx graph\n",
        "    G = nx.Graph()\n",
        "    for i in range(data.x.size(0)):\n",
        "        G.add_node(i, features=data.x[i].tolist())\n",
        "\n",
        "    edge_list = data.edge_index.t().tolist()\n",
        "    G.add_edges_from(edge_list)\n",
        "\n",
        "    # Define node and edge colors\n",
        "    node_color = ['skyblue'] * G.number_of_nodes()\n",
        "    edge_color = ['gray'] * G.number_of_edges()\n",
        "    edge_width = [1] * G.number_of_edges()\n",
        "\n",
        "    # Highlight conflicted nodes\n",
        "    if conflicted_nodes:\n",
        "        for node_index in conflicted_nodes:\n",
        "            if node_index < len(node_color):\n",
        "                node_color[node_index] = 'red'\n",
        "\n",
        "    # Highlight conflicted edges\n",
        "    if conflicted_edges:\n",
        "        edges = list(G.edges())\n",
        "        for conflict_edge in conflicted_edges:\n",
        "            try:\n",
        "                # Find the index of the conflicted edge in the edge list\n",
        "                # Sort the conflict_edge tuple to match the order in G.edges()\n",
        "                sorted_conflict_edge = tuple(sorted(conflict_edge))\n",
        "                edge_index_in_list = edges.index(sorted_conflict_edge)\n",
        "                edge_color[edge_index_in_list] = 'red'\n",
        "                edge_width[edge_index_in_list] = 2\n",
        "            except ValueError:\n",
        "                # Handle cases where the conflicted edge might not be in the graph's edge list\n",
        "                pass\n",
        "\n",
        "\n",
        "    # Use a layout for better visualization\n",
        "    pos = nx.spring_layout(G) # You can choose other layouts like spectral_layout, planar_layout, etc.\n",
        "\n",
        "    # Draw the graph\n",
        "    plt.figure(figsize=(10, 8))\n",
        "    nx.draw(G, pos, with_labels=True, node_color=node_color,\n",
        "            edge_color=edge_color, width=edge_width, node_size=700, font_size=10)\n",
        "    plt.title(\"Railway Graph with Conflicts Highlighted\")\n",
        "    plt.show()\n",
        "\n",
        "# Create a dummy pyg_data object for demonstration\n",
        "# Replace this with your actual graph data\n",
        "edge_index = torch.tensor([[0, 1, 1, 2],\n",
        "                           [1, 0, 2, 1]], dtype=torch.long)\n",
        "x = torch.randn(3, 2) # 3 nodes, 2 features per node (e.g., longitude, latitude)\n",
        "pyg_data = Data(x=x, edge_index=edge_index)\n",
        "\n",
        "print(\"Sample pyg_data object created:\")\n",
        "print(pyg_data)\n",
        "\n",
        "# Example usage with the dummy pyg_data\n",
        "# Assuming a conflict exists on edge (0, 1) and node 2\n",
        "conflicted_edges_example = [(0, 1)]\n",
        "conflicted_nodes_example = [2]\n",
        "\n",
        "visualize_railway_graph(pyg_data, conflicted_edges=conflicted_edges_example, conflicted_nodes=conflicted_nodes_example)"
      ],
      "execution_count": 9,
      "outputs": [
        {
          "output_type": "stream",
          "name": "stdout",
          "text": [
            "Sample pyg_data object created:\n",
            "Data(x=[3, 2], edge_index=[2, 4])\n"
          ]
        },
        {
          "output_type": "display_data",
          "data": {
            "text/plain": [
              "<Figure size 1000x800 with 1 Axes>"
            ],
            "image/png": "[encoded data removed]"
          },
          "metadata": {}
        }
      ]
    },
    {
      "cell_type": "markdown",
      "metadata": {
        "id": "550cacbc"
      },
      "source": [
        "**Reasoning**:\n",
        "The previous code block failed because `torch_geometric` was not found. Although the package was installed in an earlier cell, it seems the kernel might have reset or the environment is not correctly configured. The import statements for `torch_geometric.data` and `torch` need to be re-executed along with the function definition and call.\n",
        "\n"
      ]
    },
    {
      "cell_type": "code",
      "metadata": {
        "colab": {
          "base_uri": "https://localhost:8080/",
          "height": 894
        },
        "id": "9eQE8QIorUjd",
        "outputId": "c3f2d081-22c6-44fb-d8f1-1e3fdfe2cf63"
      },
      "source": [
        "import networkx as nx\n",
        "import matplotlib.pyplot as plt\n",
        "from torch_geometric.data import Data\n",
        "import torch\n",
        "\n",
        "def visualize_railway_graph(data, conflicted_edges=None, conflicted_nodes=None):\n",
        "    \"\"\"\n",
        "    Visualizes the railway graph, highlighting conflicts.\n",
        "\n",
        "    Args:\n",
        "        data (torch_geometric.data.Data): The graph data object.\n",
        "        conflicted_edges (list, optional): A list of tuples representing conflicted edges.\n",
        "                                          Each tuple should be (node1_index, node2_index).\n",
        "        conflicted_nodes (list, optional): A list of node indices that are in conflict.\n",
        "    \"\"\"\n",
        "    # Convert torch_geometric data to networkx graph\n",
        "    G = nx.Graph()\n",
        "    for i in range(data.x.size(0)):\n",
        "        G.add_node(i, features=data.x[i].tolist())\n",
        "\n",
        "    edge_list = data.edge_index.t().tolist()\n",
        "    G.add_edges_from(edge_list)\n",
        "\n",
        "    # Define node and edge colors\n",
        "    node_color = ['skyblue'] * G.number_of_nodes()\n",
        "    edge_color = ['gray'] * G.number_of_edges()\n",
        "    edge_width = [1] * G.number_of_edges()\n",
        "\n",
        "    # Highlight conflicted nodes\n",
        "    if conflicted_nodes:\n",
        "        for node_index in conflicted_nodes:\n",
        "            if node_index < len(node_color):\n",
        "                node_color[node_index] = 'red'\n",
        "\n",
        "    # Highlight conflicted edges\n",
        "    if conflicted_edges:\n",
        "        edges = list(G.edges())\n",
        "        for conflict_edge in conflicted_edges:\n",
        "            try:\n",
        "                # Find the index of the conflicted edge in the edge list\n",
        "                # Sort the conflict_edge tuple to match the order in G.edges()\n",
        "                sorted_conflict_edge = tuple(sorted(conflict_edge))\n",
        "                edge_index_in_list = edges.index(sorted_conflict_edge)\n",
        "                edge_color[edge_index_in_list] = 'red'\n",
        "                edge_width[edge_index_in_list] = 2\n",
        "            except ValueError:\n",
        "                # Handle cases where the conflicted edge might not be in the graph's edge list\n",
        "                pass\n",
        "\n",
        "\n",
        "    # Use a layout for better visualization\n",
        "    pos = nx.spring_layout(G) # You can choose other layouts like spectral_layout, planar_layout, etc.\n",
        "\n",
        "    # Draw the graph\n",
        "    plt.figure(figsize=(10, 8))\n",
        "    nx.draw(G, pos, with_labels=True, node_color=node_color,\n",
        "            edge_color=edge_color, width=edge_width, node_size=700, font_size=10)\n",
        "    plt.title(\"Railway Graph with Conflicts Highlighted\")\n",
        "    plt.show()\n",
        "\n",
        "# Create a dummy pyg_data object for demonstration\n",
        "# Replace this with your actual graph data\n",
        "edge_index = torch.tensor([[0, 1, 1, 2],\n",
        "                           [1, 0, 2, 1]], dtype=torch.long)\n",
        "x = torch.randn(3, 2) # 3 nodes, 2 features per node (e.g., longitude, latitude)\n",
        "pyg_data = Data(x=x, edge_index=edge_index)\n",
        "\n",
        "print(\"Sample pyg_data object created:\")\n",
        "print(pyg_data)\n",
        "\n",
        "# Example usage with the dummy pyg_data\n",
        "# Assuming a conflict exists on edge (0, 1) and node 2\n",
        "conflicted_edges_example = [(0, 1)]\n",
        "conflicted_nodes_example = [2]\n",
        "\n",
        "visualize_railway_graph(pyg_data, conflicted_edges=conflicted_edges_example, conflicted_nodes=conflicted_nodes_example)"
      ],
      "execution_count": 11,
      "outputs": [
        {
          "output_type": "stream",
          "name": "stdout",
          "text": [
            "Sample pyg_data object created:\n",
            "Data(x=[3, 2], edge_index=[2, 4])\n"
          ]
        },
        {
          "output_type": "display_data",
          "data": {
            "text/plain": [
              "<Figure size 1000x800 with 1 Axes>"
            ],
            "image/png": "[encoded data removed]"
          },
          "metadata": {}
        }
      ]
    },
    {
      "cell_type": "markdown",
      "metadata": {
        "id": "6d7fad09"
      },
      "source": [
        "**Reasoning**:\n",
        "The `torch_geometric` library is still not being found, even after re-including the imports. This indicates a persistent environment issue. Since the installation was successful in the first cell, attempting to re-install within this cell might resolve the problem by ensuring the library is available in the current environment.\n",
        "\n"
      ]
    },
    {
      "cell_type": "code",
      "metadata": {
        "colab": {
          "base_uri": "https://localhost:8080/",
          "height": 1000
        },
        "id": "R7tjounKrXGG",
        "outputId": "70c74370-d411-4edb-d8f9-d90f579d8e71"
      },
      "source": [
        "!pip install torch_geometric\n",
        "\n",
        "import networkx as nx\n",
        "import matplotlib.pyplot as plt\n",
        "from torch_geometric.data import Data\n",
        "import torch\n",
        "\n",
        "def visualize_railway_graph(data, conflicted_edges=None, conflicted_nodes=None):\n",
        "    \"\"\"\n",
        "    Visualizes the railway graph, highlighting conflicts.\n",
        "\n",
        "    Args:\n",
        "        data (torch_geometric.data.Data): The graph data object.\n",
        "        conflicted_edges (list, optional): A list of tuples representing conflicted edges.\n",
        "                                          Each tuple should be (node1_index, node2_index).\n",
        "        conflicted_nodes (list, optional): A list of node indices that are in conflict.\n",
        "    \"\"\"\n",
        "    # Convert torch_geometric data to networkx graph\n",
        "    G = nx.Graph()\n",
        "    for i in range(data.x.size(0)):\n",
        "        G.add_node(i, features=data.x[i].tolist())\n",
        "\n",
        "    edge_list = data.edge_index.t().tolist()\n",
        "    G.add_edges_from(edge_list)\n",
        "\n",
        "    # Define node and edge colors\n",
        "    node_color = ['skyblue'] * G.number_of_nodes()\n",
        "    edge_color = ['gray'] * G.number_of_edges()\n",
        "    edge_width = [1] * G.number_of_edges()\n",
        "\n",
        "    # Highlight conflicted nodes\n",
        "    if conflicted_nodes:\n",
        "        for node_index in conflicted_nodes:\n",
        "            if node_index < len(node_color):\n",
        "                node_color[node_index] = 'red'\n",
        "\n",
        "    # Highlight conflicted edges\n",
        "    if conflicted_edges:\n",
        "        edges = list(G.edges())\n",
        "        for conflict_edge in conflicted_edges:\n",
        "            try:\n",
        "                # Find the index of the conflicted edge in the edge list\n",
        "                # Sort the conflict_edge tuple to match the order in G.edges()\n",
        "                sorted_conflict_edge = tuple(sorted(conflict_edge))\n",
        "                edge_index_in_list = edges.index(sorted_conflict_edge)\n",
        "                edge_color[edge_index_in_list] = 'red'\n",
        "                edge_width[edge_index_in_list] = 2\n",
        "            except ValueError:\n",
        "                # Handle cases where the conflicted edge might not be in the graph's edge list\n",
        "                pass\n",
        "\n",
        "\n",
        "    # Use a layout for better visualization\n",
        "    pos = nx.spring_layout(G) # You can choose other layouts like spectral_layout, planar_layout, etc.\n",
        "\n",
        "    # Draw the graph\n",
        "    plt.figure(figsize=(10, 8))\n",
        "    nx.draw(G, pos, with_labels=True, node_color=node_color,\n",
        "            edge_color=edge_color, width=edge_width, node_size=700, font_size=10)\n",
        "    plt.title(\"Railway Graph with Conflicts Highlighted\")\n",
        "    plt.show()\n",
        "\n",
        "# Create a dummy pyg_data object for demonstration\n",
        "# Replace this with your actual graph data\n",
        "edge_index = torch.tensor([[0, 1, 1, 2],\n",
        "                           [1, 0, 2, 1]], dtype=torch.long)\n",
        "x = torch.randn(3, 2) # 3 nodes, 2 features per node (e.g., longitude, latitude)\n",
        "pyg_data = Data(x=x, edge_index=edge_index)\n",
        "\n",
        "print(\"Sample pyg_data object created:\")\n",
        "print(pyg_data)\n",
        "\n",
        "# Example usage with the dummy pyg_data\n",
        "# Assuming a conflict exists on edge (0, 1) and node 2\n",
        "conflicted_edges_example = [(0, 1)]\n",
        "conflicted_nodes_example = [2]\n",
        "\n",
        "visualize_railway_graph(pyg_data, conflicted_edges=conflicted_edges_example, conflicted_nodes=conflicted_nodes_example)"
      ],
      "execution_count": 12,
      "outputs": [
        {
          "output_type": "stream",
          "name": "stdout",
          "text": [
            "Requirement already satisfied: torch_geometric in /usr/local/lib/python3.12/dist-packages (2.6.1)\n",
            "Requirement already satisfied: aiohttp in /usr/local/lib/python3.12/dist-packages (from torch_geometric) (3.12.15)\n",
            "Requirement already satisfied: fsspec in /usr/local/lib/python3.12/dist-packages (from torch_geometric) (2025.3.0)\n",
            "Requirement already satisfied: jinja2 in /usr/local/lib/python3.12/dist-packages (from torch_geometric) (3.1.6)\n",
            "Requirement already satisfied: numpy in /usr/local/lib/python3.12/dist-packages (from torch_geometric) (2.0.2)\n",
            "Requirement already satisfied: psutil>=5.8.0 in /usr/local/lib/python3.12/dist-packages (from torch_geometric) (5.9.5)\n",
            "Requirement already satisfied: pyparsing in /usr/local/lib/python3.12/dist-packages (from torch_geometric) (3.2.3)\n",
            "Requirement already satisfied: requests in /usr/local/lib/python3.12/dist-packages (from torch_geometric) (2.32.4)\n",
            "Requirement already satisfied: tqdm in /usr/local/lib/python3.12/dist-packages (from torch_geometric) (4.67.1)\n",
            "Requirement already satisfied: aiohappyeyeballs>=2.5.0 in /usr/local/lib/python3.12/dist-packages (from aiohttp->torch_geometric) (2.6.1)\n",
            "Requirement already satisfied: aiosignal>=1.4.0 in /usr/local/lib/python3.12/dist-packages (from aiohttp->torch_geometric) (1.4.0)\n",
            "Requirement already satisfied: attrs>=17.3.0 in /usr/local/lib/python3.12/dist-packages (from aiohttp->torch_geometric) (25.3.0)\n",
            "Requirement already satisfied: frozenlist>=1.1.1 in /usr/local/lib/python3.12/dist-packages (from aiohttp->torch_geometric) (1.7.0)\n",
            "Requirement already satisfied: multidict<7.0,>=4.5 in /usr/local/lib/python3.12/dist-packages (from aiohttp->torch_geometric) (6.6.4)\n",
            "Requirement already satisfied: propcache>=0.2.0 in /usr/local/lib/python3.12/dist-packages (from aiohttp->torch_geometric) (0.3.2)\n",
            "Requirement already satisfied: yarl<2.0,>=1.17.0 in /usr/local/lib/python3.12/dist-packages (from aiohttp->torch_geometric) (1.20.1)\n",
            "Requirement already satisfied: MarkupSafe>=2.0 in /usr/local/lib/python3.12/dist-packages (from jinja2->torch_geometric) (3.0.2)\n",
            "Requirement already satisfied: charset_normalizer<4,>=2 in /usr/local/lib/python3.12/dist-packages (from requests->torch_geometric) (3.4.3)\n",
            "Requirement already satisfied: idna<4,>=2.5 in /usr/local/lib/python3.12/dist-packages (from requests->torch_geometric) (3.10)\n",
            "Requirement already satisfied: urllib3<3,>=1.21.1 in /usr/local/lib/python3.12/dist-packages (from requests->torch_geometric) (2.5.0)\n",
            "Requirement already satisfied: certifi>=2017.4.17 in /usr/local/lib/python3.12/dist-packages (from requests->torch_geometric) (2025.8.3)\n",
            "Requirement already satisfied: typing-extensions>=4.2 in /usr/local/lib/python3.12/dist-packages (from aiosignal>=1.4.0->aiohttp->torch_geometric) (4.15.0)\n",
            "Sample pyg_data object created:\n",
            "Data(x=[3, 2], edge_index=[2, 4])\n"
          ]
        },
        {
          "output_type": "display_data",
          "data": {
            "text/plain": [
              "<Figure size 1000x800 with 1 Axes>"
            ],
            "image/png": "[encoded data removed]"
          },
          "metadata": {}
        }
      ]
    },
    {
      "cell_type": "markdown",
      "metadata": {
        "id": "0edd633b"
      },
      "source": [
        "## Simulate initial state\n",
        "\n",
        "### Subtask:\n",
        "Create a graph representation of the train station, including initial train positions and potential conflicts. This will be the \"before\" visualization data.\n"
      ]
    },
    {
      "cell_type": "markdown",
      "metadata": {
        "id": "0c7b97d0"
      },
      "source": [
        "**Reasoning**:\n",
        "Define the railway station graph structure, including nodes, edges, and initial train positions, and identify potential conflicts to create the initial state data for visualization.\n",
        "\n"
      ]
    },
    {
      "cell_type": "code",
      "metadata": {
        "colab": {
          "base_uri": "https://localhost:8080/"
        },
        "id": "187ea399",
        "outputId": "d0c55bfb-74a1-435f-ef51-1eb4670133e0"
      },
      "source": [
        "# Define the graph structure (nodes and edges)\n",
        "# Nodes represent stations or junctions\n",
        "# Edges represent railway tracks\n",
        "# For simplicity, let's define a small graph\n",
        "# Node features (e.g., longitude, latitude)\n",
        "# Let's assume some arbitrary coordinates for demonstration\n",
        "node_features = torch.tensor([\n",
        "    [0.0, 0.0],  # Node 0 (e.g., Station A)\n",
        "    [1.0, 0.0],  # Node 1 (e.g., Junction)\n",
        "    [2.0, 0.0],  # Node 2 (e.g., Station B)\n",
        "    [1.0, 1.0],  # Node 3 (e.g., Station C)\n",
        "    [2.0, 1.0]   # Node 4 (e.g., Station D)\n",
        "], dtype=torch.float)\n",
        "\n",
        "# Edge index representing connections between nodes\n",
        "# Each column is an edge: [source_node, target_node]\n",
        "edge_index = torch.tensor([\n",
        "    [0, 1], [1, 0],  # Edge between 0 and 1 (bidirectional)\n",
        "    [1, 2], [2, 1],  # Edge between 1 and 2 (bidirectional)\n",
        "    [1, 3], [3, 1],  # Edge between 1 and 3 (bidirectional)\n",
        "    [3, 4], [4, 3]   # Edge between 3 and 4 (bidirectional)\n",
        "], dtype=torch.long).t().contiguous() # Transpose and make contiguous for torch_geometric\n",
        "\n",
        "# Create the initial state graph data\n",
        "initial_state_data = Data(x=node_features, edge_index=edge_index)\n",
        "\n",
        "# Identify and represent potential conflicts in this initial state\n",
        "# This is a simplified example. In a real scenario, this would involve\n",
        "# knowing train positions and routes.\n",
        "# Let's assume there's a conflict at node 1 (junction) because two trains\n",
        "# are scheduled to arrive there at the same time, or on edge (1, 2).\n",
        "initial_conflicted_nodes = [1]\n",
        "initial_conflicted_edges = [(1, 2)] # Represent as tuples of node indices\n",
        "\n",
        "print(\"Initial state graph data created:\")\n",
        "print(initial_state_data)\n",
        "print(\"\\nInitial conflicted nodes:\")\n",
        "print(initial_conflicted_nodes)\n",
        "print(\"\\nInitial conflicted edges:\")\n",
        "print(initial_conflicted_edges)"
      ],
      "execution_count": 5,
      "outputs": [
        {
          "output_type": "stream",
          "name": "stdout",
          "text": [
            "Initial state graph data created:\n",
            "Data(x=[5, 2], edge_index=[2, 8])\n",
            "\n",
            "Initial conflicted nodes:\n",
            "[1]\n",
            "\n",
            "Initial conflicted edges:\n",
            "[(1, 2)]\n"
          ]
        }
      ]
    },
    {
      "cell_type": "markdown",
      "metadata": {
        "id": "9f5dd6ec"
      },
      "source": [
        "## Apply the model\n",
        "\n",
        "### Subtask:\n",
        "Use the loaded model and the simulated initial state (`pyg_data`) to get the model's recommendations for resolving conflicts.\n"
      ]
    },
    {
      "cell_type": "markdown",
      "metadata": {
        "id": "2311663d"
      },
      "source": [
        "**Reasoning**:\n",
        "Use the loaded model to predict the action probabilities for the initial state and determine the recommended action.\n",
        "\n"
      ]
    },
    {
      "cell_type": "code",
      "metadata": {
        "colab": {
          "base_uri": "https://localhost:8080/"
        },
        "id": "408be095",
        "outputId": "946493f7-59e5-4101-c016-c9146ac8057d"
      },
      "source": [
        "# Ensure that the loaded_model and initial_state_data objects are available\n",
        "# These should be available from previous steps\n",
        "\n",
        "# Put the loaded_model in evaluation mode\n",
        "loaded_model.eval()\n",
        "\n",
        "# Make a prediction using the loaded_model with the initial_state_data as input\n",
        "with torch.no_grad():\n",
        "    action_probabilities = loaded_model(initial_state_data)\n",
        "\n",
        "# Store the model's output (action probabilities) in a variable\n",
        "# action_probabilities is already stored in a variable\n",
        "\n",
        "# Determine the recommended action by finding the index of the maximum probability\n",
        "recommended_action_index = torch.argmax(action_probabilities, dim=1).item()\n",
        "\n",
        "# Print the predicted action probabilities and the recommended action\n",
        "print(\"Predicted action probabilities:\")\n",
        "print(action_probabilities)\n",
        "\n",
        "print(\"\\nRecommended action:\")\n",
        "if recommended_action_index == 0:\n",
        "    print(\"0. Let train pass\")\n",
        "elif recommended_action_index == 1:\n",
        "    print(\"1. Hold train\")\n",
        "elif recommended_action_index == 2:\n",
        "    print(\"2. Reroute train\")"
      ],
      "execution_count": 14,
      "outputs": [
        {
          "output_type": "stream",
          "name": "stdout",
          "text": [
            "Predicted action probabilities:\n",
            "tensor([[0.3866, 0.3227, 0.2907]])\n",
            "\n",
            "Recommended action:\n",
            "0. Let train pass\n"
          ]
        }
      ]
    },
    {
      "cell_type": "markdown",
      "metadata": {
        "id": "de6cddcb"
      },
      "source": [
        "**Reasoning**:\n",
        "The error indicates that `loaded_model` is not defined. I need to redefine the model and load the state dictionary again before using it for prediction.\n",
        "\n"
      ]
    },
    {
      "cell_type": "code",
      "metadata": {
        "colab": {
          "base_uri": "https://localhost:8080/",
          "height": 356
        },
        "id": "zZfbyTw9roue",
        "outputId": "e0720d4e-1c0a-4423-d208-39f37cfe5af2"
      },
      "source": [
        "# Ensure that the loaded_model and initial_state_data objects are available\n",
        "# These should be available from previous steps\n",
        "\n",
        "# Define the HybridModel class again as it seems not to be available in the current scope\n",
        "class HybridModel(nn.Module):\n",
        "    def __init__(self, gnn_in_channels, gnn_hidden_channels, gnn_out_channels, num_actions):\n",
        "        super(HybridModel, self).__init__()\n",
        "        self.gnn_encoder = GNNEncoder(gnn_in_channels, gnn_hidden_channels, gnn_out_channels)\n",
        "        self.rl_agent = RLAgent(gnn_out_channels) # Assuming RLAgent is the action predictor\n",
        "\n",
        "    def forward(self, data):\n",
        "        gnn_output = self.gnn_encoder(data.x, data.edge_index)\n",
        "        # Assuming you want a global state embedding for the RL agent\n",
        "        global_state_embedding = gnn_output.mean(dim=0, keepdim=True)\n",
        "        action_probabilities = self.rl_agent(global_state_embedding)\n",
        "        return action_probabilities\n",
        "\n",
        "# Define the RLAgent class again as it seems not to be available in the current scope\n",
        "class RLAgent(nn.Module):\n",
        "    def __init__(self, in_channels):\n",
        "        super(RLAgent, self).__init__()\n",
        "        self.linear1 = nn.Linear(in_channels, 64)\n",
        "        self.linear2 = nn.Linear(64, 3) # Assuming 3 actions\n",
        "\n",
        "    def forward(self, state_embedding):\n",
        "        x = self.linear1(state_embedding)\n",
        "        x = nn.functional.relu(x)\n",
        "        return torch.softmax(self.linear2(x), dim=1) # Assuming softmax for action probabilities\n",
        "\n",
        "\n",
        "# Assuming you have defined the model classes as in the previous step\n",
        "model_path = 'railway_traffic_model.pth'\n",
        "\n",
        "# Initialize the model with the same parameters used during training\n",
        "loaded_model = HybridModel(\n",
        "    gnn_in_channels=2,        # Matches the number of features in your node data (longitude, latitude)\n",
        "    gnn_hidden_channels=64,\n",
        "    gnn_out_channels=32,\n",
        "    num_actions=3             # Matches your three actions (pass, hold, reroute)\n",
        ")\n",
        "\n",
        "# Load the saved parameters from the .pth file\n",
        "loaded_model.load_state_dict(torch.load(model_path))\n",
        "\n",
        "\n",
        "# Put the loaded_model in evaluation mode\n",
        "loaded_model.eval()\n",
        "\n",
        "# Make a prediction using the loaded_model with the initial_state_data as input\n",
        "with torch.no_grad():\n",
        "    action_probabilities = loaded_model(initial_state_data)\n",
        "\n",
        "# Store the model's output (action probabilities) in a variable\n",
        "# action_probabilities is already stored in a variable\n",
        "\n",
        "# Determine the recommended action by finding the index of the maximum probability\n",
        "recommended_action_index = torch.argmax(action_probabilities, dim=1).item()\n",
        "\n",
        "# Print the predicted action probabilities and the recommended action\n",
        "print(\"Predicted action probabilities:\")\n",
        "print(action_probabilities)\n",
        "\n",
        "print(\"\\nRecommended action:\")\n",
        "if recommended_action_index == 0:\n",
        "    print(\"0. Let train pass\")\n",
        "elif recommended_action_index == 1:\n",
        "    print(\"1. Hold train\")\n",
        "elif recommended_action_index == 2:\n",
        "    print(\"2. Reroute train\")"
      ],
      "execution_count": 17,
      "outputs": [
        {
          "output_type": "error",
          "ename": "FileNotFoundError",
          "evalue": "[Errno 2] No such file or directory: 'railway_traffic_model.pth'",
          "traceback": [
            "\u001b[0;31m---------------------------------------------------------------------------\u001b[0m",
            "\u001b[0;31mFileNotFoundError\u001b[0m                         Traceback (most recent call last)",
            "\u001b[0;32m/tmp/ipython-input-4045602697.py\u001b[0m in \u001b[0;36m<cell line: 0>\u001b[0;34m()\u001b[0m\n\u001b[1;32m     41\u001b[0m \u001b[0;34m\u001b[0m\u001b[0m\n\u001b[1;32m     42\u001b[0m \u001b[0;31m# Load the saved parameters from the .pth file\u001b[0m\u001b[0;34m\u001b[0m\u001b[0;34m\u001b[0m\u001b[0m\n\u001b[0;32m---> 43\u001b[0;31m \u001b[0mloaded_model\u001b[0m\u001b[0;34m.\u001b[0m\u001b[0mload_state_dict\u001b[0m\u001b[0;34m(\u001b[0m\u001b[0mtorch\u001b[0m\u001b[0;34m.\u001b[0m\u001b[0mload\u001b[0m\u001b[0;34m(\u001b[0m\u001b[0mmodel_path\u001b[0m\u001b[0;34m)\u001b[0m\u001b[0;34m)\u001b[0m\u001b[0;34m\u001b[0m\u001b[0;34m\u001b[0m\u001b[0m\n\u001b[0m\u001b[1;32m     44\u001b[0m \u001b[0;34m\u001b[0m\u001b[0m\n\u001b[1;32m     45\u001b[0m \u001b[0;34m\u001b[0m\u001b[0m\n",
            "\u001b[0;32m/usr/local/lib/python3.12/dist-packages/torch/serialization.py\u001b[0m in \u001b[0;36mload\u001b[0;34m(f, map_location, pickle_module, weights_only, mmap, **pickle_load_args)\u001b[0m\n\u001b[1;32m   1482\u001b[0m         \u001b[0mpickle_load_args\u001b[0m\u001b[0;34m[\u001b[0m\u001b[0;34m\"encoding\"\u001b[0m\u001b[0;34m]\u001b[0m \u001b[0;34m=\u001b[0m \u001b[0;34m\"utf-8\"\u001b[0m\u001b[0;34m\u001b[0m\u001b[0;34m\u001b[0m\u001b[0m\n\u001b[1;32m   1483\u001b[0m \u001b[0;34m\u001b[0m\u001b[0m\n\u001b[0;32m-> 1484\u001b[0;31m     \u001b[0;32mwith\u001b[0m \u001b[0m_open_file_like\u001b[0m\u001b[0;34m(\u001b[0m\u001b[0mf\u001b[0m\u001b[0;34m,\u001b[0m \u001b[0;34m\"rb\"\u001b[0m\u001b[0;34m)\u001b[0m \u001b[0;32mas\u001b[0m \u001b[0mopened_file\u001b[0m\u001b[0;34m:\u001b[0m\u001b[0;34m\u001b[0m\u001b[0;34m\u001b[0m\u001b[0m\n\u001b[0m\u001b[1;32m   1485\u001b[0m         \u001b[0;32mif\u001b[0m \u001b[0m_is_zipfile\u001b[0m\u001b[0;34m(\u001b[0m\u001b[0mopened_file\u001b[0m\u001b[0;34m)\u001b[0m\u001b[0;34m:\u001b[0m\u001b[0;34m\u001b[0m\u001b[0;34m\u001b[0m\u001b[0m\n\u001b[1;32m   1486\u001b[0m             \u001b[0;31m# The zipfile reader is going to advance the current file position.\u001b[0m\u001b[0;34m\u001b[0m\u001b[0;34m\u001b[0m\u001b[0m\n",
            "\u001b[0;32m/usr/local/lib/python3.12/dist-packages/torch/serialization.py\u001b[0m in \u001b[0;36m_open_file_like\u001b[0;34m(name_or_buffer, mode)\u001b[0m\n\u001b[1;32m    757\u001b[0m \u001b[0;32mdef\u001b[0m \u001b[0m_open_file_like\u001b[0m\u001b[0;34m(\u001b[0m\u001b[0mname_or_buffer\u001b[0m\u001b[0;34m:\u001b[0m \u001b[0mFileLike\u001b[0m\u001b[0;34m,\u001b[0m \u001b[0mmode\u001b[0m\u001b[0;34m:\u001b[0m \u001b[0mstr\u001b[0m\u001b[0;34m)\u001b[0m \u001b[0;34m->\u001b[0m \u001b[0m_opener\u001b[0m\u001b[0;34m[\u001b[0m\u001b[0mIO\u001b[0m\u001b[0;34m[\u001b[0m\u001b[0mbytes\u001b[0m\u001b[0;34m]\u001b[0m\u001b[0;34m]\u001b[0m\u001b[0;34m:\u001b[0m\u001b[0;34m\u001b[0m\u001b[0;34m\u001b[0m\u001b[0m\n\u001b[1;32m    758\u001b[0m     \u001b[0;32mif\u001b[0m \u001b[0m_is_path\u001b[0m\u001b[0;34m(\u001b[0m\u001b[0mname_or_buffer\u001b[0m\u001b[0;34m)\u001b[0m\u001b[0;34m:\u001b[0m\u001b[0;34m\u001b[0m\u001b[0;34m\u001b[0m\u001b[0m\n\u001b[0;32m--> 759\u001b[0;31m         \u001b[0;32mreturn\u001b[0m \u001b[0m_open_file\u001b[0m\u001b[0;34m(\u001b[0m\u001b[0mname_or_buffer\u001b[0m\u001b[0;34m,\u001b[0m \u001b[0mmode\u001b[0m\u001b[0;34m)\u001b[0m\u001b[0;34m\u001b[0m\u001b[0;34m\u001b[0m\u001b[0m\n\u001b[0m\u001b[1;32m    760\u001b[0m     \u001b[0;32melse\u001b[0m\u001b[0;34m:\u001b[0m\u001b[0;34m\u001b[0m\u001b[0;34m\u001b[0m\u001b[0m\n\u001b[1;32m    761\u001b[0m         \u001b[0;32mif\u001b[0m \u001b[0;34m\"w\"\u001b[0m \u001b[0;32min\u001b[0m \u001b[0mmode\u001b[0m\u001b[0;34m:\u001b[0m\u001b[0;34m\u001b[0m\u001b[0;34m\u001b[0m\u001b[0m\n",
            "\u001b[0;32m/usr/local/lib/python3.12/dist-packages/torch/serialization.py\u001b[0m in \u001b[0;36m__init__\u001b[0;34m(self, name, mode)\u001b[0m\n\u001b[1;32m    738\u001b[0m \u001b[0;32mclass\u001b[0m \u001b[0m_open_file\u001b[0m\u001b[0;34m(\u001b[0m\u001b[0m_opener\u001b[0m\u001b[0;34m[\u001b[0m\u001b[0mIO\u001b[0m\u001b[0;34m[\u001b[0m\u001b[0mbytes\u001b[0m\u001b[0;34m]\u001b[0m\u001b[0;34m]\u001b[0m\u001b[0;34m)\u001b[0m\u001b[0;34m:\u001b[0m\u001b[0;34m\u001b[0m\u001b[0;34m\u001b[0m\u001b[0m\n\u001b[1;32m    739\u001b[0m     \u001b[0;32mdef\u001b[0m \u001b[0m__init__\u001b[0m\u001b[0;34m(\u001b[0m\u001b[0mself\u001b[0m\u001b[0;34m,\u001b[0m \u001b[0mname\u001b[0m\u001b[0;34m:\u001b[0m \u001b[0mUnion\u001b[0m\u001b[0;34m[\u001b[0m\u001b[0mstr\u001b[0m\u001b[0;34m,\u001b[0m \u001b[0mos\u001b[0m\u001b[0;34m.\u001b[0m\u001b[0mPathLike\u001b[0m\u001b[0;34m[\u001b[0m\u001b[0mstr\u001b[0m\u001b[0;34m]\u001b[0m\u001b[0;34m]\u001b[0m\u001b[0;34m,\u001b[0m \u001b[0mmode\u001b[0m\u001b[0;34m:\u001b[0m \u001b[0mstr\u001b[0m\u001b[0;34m)\u001b[0m \u001b[0;34m->\u001b[0m \u001b[0;32mNone\u001b[0m\u001b[0;34m:\u001b[0m\u001b[0;34m\u001b[0m\u001b[0;34m\u001b[0m\u001b[0m\n\u001b[0;32m--> 740\u001b[0;31m         \u001b[0msuper\u001b[0m\u001b[0;34m(\u001b[0m\u001b[0;34m)\u001b[0m\u001b[0;34m.\u001b[0m\u001b[0m__init__\u001b[0m\u001b[0;34m(\u001b[0m\u001b[0mopen\u001b[0m\u001b[0;34m(\u001b[0m\u001b[0mname\u001b[0m\u001b[0;34m,\u001b[0m \u001b[0mmode\u001b[0m\u001b[0;34m)\u001b[0m\u001b[0;34m)\u001b[0m\u001b[0;34m\u001b[0m\u001b[0;34m\u001b[0m\u001b[0m\n\u001b[0m\u001b[1;32m    741\u001b[0m \u001b[0;34m\u001b[0m\u001b[0m\n\u001b[1;32m    742\u001b[0m     \u001b[0;32mdef\u001b[0m \u001b[0m__exit__\u001b[0m\u001b[0;34m(\u001b[0m\u001b[0mself\u001b[0m\u001b[0;34m,\u001b[0m \u001b[0;34m*\u001b[0m\u001b[0margs\u001b[0m\u001b[0;34m)\u001b[0m\u001b[0;34m:\u001b[0m\u001b[0;34m\u001b[0m\u001b[0;34m\u001b[0m\u001b[0m\n",
            "\u001b[0;31mFileNotFoundError\u001b[0m: [Errno 2] No such file or directory: 'railway_traffic_model.pth'"
          ]
        }
      ]
    },
    {
      "cell_type": "markdown",
      "metadata": {
        "id": "baeafc4f"
      },
      "source": [
        "**Reasoning**:\n",
        "The error indicates that `nn` is not defined. I need to import `torch.nn` again as it seems the kernel state was reset or `nn` was not available in the current scope.\n",
        "\n"
      ]
    },
    {
      "cell_type": "code",
      "metadata": {
        "colab": {
          "base_uri": "https://localhost:8080/",
          "height": 356
        },
        "id": "8-Vt566MrrYB",
        "outputId": "8f30b2f3-2e0d-4c54-fbcb-6c9e73e7d1fc"
      },
      "source": [
        "import torch\n",
        "import torch.nn as nn\n",
        "from torch_geometric.nn import GCNConv\n",
        "from torch_geometric.data import Data\n",
        "\n",
        "# Define the GNN Model (State Encoder)\n",
        "class GNNEncoder(nn.Module):\n",
        "    def __init__(self, in_channels, hidden_channels, out_channels):\n",
        "        super(GNNEncoder, self).__init__()\n",
        "        self.conv1 = GCNConv(in_channels, hidden_channels)\n",
        "        self.conv2 = GCNConv(hidden_channels, out_channels)\n",
        "        self.relu = nn.ReLU()\n",
        "\n",
        "    def forward(self, x, edge_index):\n",
        "        x = self.conv1(x, edge_index)\n",
        "        x = self.relu(x)\n",
        "        x = self.conv2(x, edge_index)\n",
        "        return x\n",
        "\n",
        "# Define the RLAgent class again as it seems not to be available in the current scope\n",
        "class RLAgent(nn.Module):\n",
        "    def __init__(self, in_channels):\n",
        "        super(RLAgent, self).__init__()\n",
        "        self.linear1 = nn.Linear(in_channels, 64)\n",
        "        self.linear2 = nn.Linear(64, 3) # Assuming 3 actions\n",
        "\n",
        "    def forward(self, state_embedding):\n",
        "        x = self.linear1(state_embedding)\n",
        "        x = nn.functional.relu(x)\n",
        "        return torch.softmax(self.linear2(x), dim=1) # Assuming softmax for action probabilities\n",
        "\n",
        "# Define the HybridModel class again as it seems not to be available in the current scope\n",
        "class HybridModel(nn.Module):\n",
        "    def __init__(self, gnn_in_channels, gnn_hidden_channels, gnn_out_channels, num_actions):\n",
        "        super(HybridModel, self).__init__()\n",
        "        self.gnn_encoder = GNNEncoder(gnn_in_channels, gnn_hidden_channels, gnn_out_channels)\n",
        "        self.rl_agent = RLAgent(gnn_out_channels) # Assuming RLAgent is the action predictor\n",
        "\n",
        "    def forward(self, data):\n",
        "        gnn_output = self.gnn_encoder(data.x, data.edge_index)\n",
        "        # Assuming you want a global state embedding for the RL agent\n",
        "        global_state_embedding = gnn_output.mean(dim=0, keepdim=True)\n",
        "        action_probabilities = self.rl_agent(global_state_embedding)\n",
        "        return action_probabilities\n",
        "\n",
        "\n",
        "# Assuming you have defined the model classes as in the previous step\n",
        "model_path = 'railway_traffic_model.pth'\n",
        "\n",
        "# Initialize the model with the same parameters used during training\n",
        "loaded_model = HybridModel(\n",
        "    gnn_in_channels=2,        # Matches the number of features in your node data (longitude, latitude)\n",
        "    gnn_hidden_channels=64,\n",
        "    gnn_out_channels=32,\n",
        "    num_actions=3             # Matches your three actions (pass, hold, reroute)\n",
        ")\n",
        "\n",
        "# Load the saved parameters from the .pth file\n",
        "loaded_model.load_state_dict(torch.load(model_path))\n",
        "\n",
        "\n",
        "# Put the loaded_model in evaluation mode\n",
        "loaded_model.eval()\n",
        "\n",
        "# Make a prediction using the loaded_model with the initial_state_data as input\n",
        "with torch.no_grad():\n",
        "    action_probabilities = loaded_model(initial_state_data)\n",
        "\n",
        "# Store the model's output (action probabilities) in a variable\n",
        "# action_probabilities is already stored in a variable\n",
        "\n",
        "# Determine the recommended action by finding the index of the maximum probability\n",
        "recommended_action_index = torch.argmax(action_probabilities, dim=1).item()\n",
        "\n",
        "# Print the predicted action probabilities and the recommended action\n",
        "print(\"Predicted action probabilities:\")\n",
        "print(action_probabilities)\n",
        "\n",
        "print(\"\\nRecommended action:\")\n",
        "if recommended_action_index == 0:\n",
        "    print(\"0. Let train pass\")\n",
        "elif recommended_action_index == 1:\n",
        "    print(\"1. Hold train\")\n",
        "elif recommended_action_index == 2:\n",
        "    print(\"2. Reroute train\")"
      ],
      "execution_count": 10,
      "outputs": [
        {
          "output_type": "error",
          "ename": "FileNotFoundError",
          "evalue": "[Errno 2] No such file or directory: 'railway_traffic_model.pth'",
          "traceback": [
            "\u001b[0;31m---------------------------------------------------------------------------\u001b[0m",
            "\u001b[0;31mFileNotFoundError\u001b[0m                         Traceback (most recent call last)",
            "\u001b[0;32m/tmp/ipython-input-879889347.py\u001b[0m in \u001b[0;36m<cell line: 0>\u001b[0;34m()\u001b[0m\n\u001b[1;32m     57\u001b[0m \u001b[0;34m\u001b[0m\u001b[0m\n\u001b[1;32m     58\u001b[0m \u001b[0;31m# Load the saved parameters from the .pth file\u001b[0m\u001b[0;34m\u001b[0m\u001b[0;34m\u001b[0m\u001b[0m\n\u001b[0;32m---> 59\u001b[0;31m \u001b[0mloaded_model\u001b[0m\u001b[0;34m.\u001b[0m\u001b[0mload_state_dict\u001b[0m\u001b[0;34m(\u001b[0m\u001b[0mtorch\u001b[0m\u001b[0;34m.\u001b[0m\u001b[0mload\u001b[0m\u001b[0;34m(\u001b[0m\u001b[0mmodel_path\u001b[0m\u001b[0;34m)\u001b[0m\u001b[0;34m)\u001b[0m\u001b[0;34m\u001b[0m\u001b[0;34m\u001b[0m\u001b[0m\n\u001b[0m\u001b[1;32m     60\u001b[0m \u001b[0;34m\u001b[0m\u001b[0m\n\u001b[1;32m     61\u001b[0m \u001b[0;34m\u001b[0m\u001b[0m\n",
            "\u001b[0;32m/usr/local/lib/python3.12/dist-packages/torch/serialization.py\u001b[0m in \u001b[0;36mload\u001b[0;34m(f, map_location, pickle_module, weights_only, mmap, **pickle_load_args)\u001b[0m\n\u001b[1;32m   1482\u001b[0m         \u001b[0mpickle_load_args\u001b[0m\u001b[0;34m[\u001b[0m\u001b[0;34m\"encoding\"\u001b[0m\u001b[0;34m]\u001b[0m \u001b[0;34m=\u001b[0m \u001b[0;34m\"utf-8\"\u001b[0m\u001b[0;34m\u001b[0m\u001b[0;34m\u001b[0m\u001b[0m\n\u001b[1;32m   1483\u001b[0m \u001b[0;34m\u001b[0m\u001b[0m\n\u001b[0;32m-> 1484\u001b[0;31m     \u001b[0;32mwith\u001b[0m \u001b[0m_open_file_like\u001b[0m\u001b[0;34m(\u001b[0m\u001b[0mf\u001b[0m\u001b[0;34m,\u001b[0m \u001b[0;34m\"rb\"\u001b[0m\u001b[0;34m)\u001b[0m \u001b[0;32mas\u001b[0m \u001b[0mopened_file\u001b[0m\u001b[0;34m:\u001b[0m\u001b[0;34m\u001b[0m\u001b[0;34m\u001b[0m\u001b[0m\n\u001b[0m\u001b[1;32m   1485\u001b[0m         \u001b[0;32mif\u001b[0m \u001b[0m_is_zipfile\u001b[0m\u001b[0;34m(\u001b[0m\u001b[0mopened_file\u001b[0m\u001b[0;34m)\u001b[0m\u001b[0;34m:\u001b[0m\u001b[0;34m\u001b[0m\u001b[0;34m\u001b[0m\u001b[0m\n\u001b[1;32m   1486\u001b[0m             \u001b[0;31m# The zipfile reader is going to advance the current file position.\u001b[0m\u001b[0;34m\u001b[0m\u001b[0;34m\u001b[0m\u001b[0m\n",
            "\u001b[0;32m/usr/local/lib/python3.12/dist-packages/torch/serialization.py\u001b[0m in \u001b[0;36m_open_file_like\u001b[0;34m(name_or_buffer, mode)\u001b[0m\n\u001b[1;32m    757\u001b[0m \u001b[0;32mdef\u001b[0m \u001b[0m_open_file_like\u001b[0m\u001b[0;34m(\u001b[0m\u001b[0mname_or_buffer\u001b[0m\u001b[0;34m:\u001b[0m \u001b[0mFileLike\u001b[0m\u001b[0;34m,\u001b[0m \u001b[0mmode\u001b[0m\u001b[0;34m:\u001b[0m \u001b[0mstr\u001b[0m\u001b[0;34m)\u001b[0m \u001b[0;34m->\u001b[0m \u001b[0m_opener\u001b[0m\u001b[0;34m[\u001b[0m\u001b[0mIO\u001b[0m\u001b[0;34m[\u001b[0m\u001b[0mbytes\u001b[0m\u001b[0;34m]\u001b[0m\u001b[0;34m]\u001b[0m\u001b[0;34m:\u001b[0m\u001b[0;34m\u001b[0m\u001b[0;34m\u001b[0m\u001b[0m\n\u001b[1;32m    758\u001b[0m     \u001b[0;32mif\u001b[0m \u001b[0m_is_path\u001b[0m\u001b[0;34m(\u001b[0m\u001b[0mname_or_buffer\u001b[0m\u001b[0;34m)\u001b[0m\u001b[0;34m:\u001b[0m\u001b[0;34m\u001b[0m\u001b[0;34m\u001b[0m\u001b[0m\n\u001b[0;32m--> 759\u001b[0;31m         \u001b[0;32mreturn\u001b[0m \u001b[0m_open_file\u001b[0m\u001b[0;34m(\u001b[0m\u001b[0mname_or_buffer\u001b[0m\u001b[0;34m,\u001b[0m \u001b[0mmode\u001b[0m\u001b[0;34m)\u001b[0m\u001b[0;34m\u001b[0m\u001b[0;34m\u001b[0m\u001b[0m\n\u001b[0m\u001b[1;32m    760\u001b[0m     \u001b[0;32melse\u001b[0m\u001b[0;34m:\u001b[0m\u001b[0;34m\u001b[0m\u001b[0;34m\u001b[0m\u001b[0m\n\u001b[1;32m    761\u001b[0m         \u001b[0;32mif\u001b[0m \u001b[0;34m\"w\"\u001b[0m \u001b[0;32min\u001b[0m \u001b[0mmode\u001b[0m\u001b[0;34m:\u001b[0m\u001b[0;34m\u001b[0m\u001b[0;34m\u001b[0m\u001b[0m\n",
            "\u001b[0;32m/usr/local/lib/python3.12/dist-packages/torch/serialization.py\u001b[0m in \u001b[0;36m__init__\u001b[0;34m(self, name, mode)\u001b[0m\n\u001b[1;32m    738\u001b[0m \u001b[0;32mclass\u001b[0m \u001b[0m_open_file\u001b[0m\u001b[0;34m(\u001b[0m\u001b[0m_opener\u001b[0m\u001b[0;34m[\u001b[0m\u001b[0mIO\u001b[0m\u001b[0;34m[\u001b[0m\u001b[0mbytes\u001b[0m\u001b[0;34m]\u001b[0m\u001b[0;34m]\u001b[0m\u001b[0;34m)\u001b[0m\u001b[0;34m:\u001b[0m\u001b[0;34m\u001b[0m\u001b[0;34m\u001b[0m\u001b[0m\n\u001b[1;32m    739\u001b[0m     \u001b[0;32mdef\u001b[0m \u001b[0m__init__\u001b[0m\u001b[0;34m(\u001b[0m\u001b[0mself\u001b[0m\u001b[0;34m,\u001b[0m \u001b[0mname\u001b[0m\u001b[0;34m:\u001b[0m \u001b[0mUnion\u001b[0m\u001b[0;34m[\u001b[0m\u001b[0mstr\u001b[0m\u001b[0;34m,\u001b[0m \u001b[0mos\u001b[0m\u001b[0;34m.\u001b[0m\u001b[0mPathLike\u001b[0m\u001b[0;34m[\u001b[0m\u001b[0mstr\u001b[0m\u001b[0;34m]\u001b[0m\u001b[0;34m]\u001b[0m\u001b[0;34m,\u001b[0m \u001b[0mmode\u001b[0m\u001b[0;34m:\u001b[0m \u001b[0mstr\u001b[0m\u001b[0;34m)\u001b[0m \u001b[0;34m->\u001b[0m \u001b[0;32mNone\u001b[0m\u001b[0;34m:\u001b[0m\u001b[0;34m\u001b[0m\u001b[0;34m\u001b[0m\u001b[0m\n\u001b[0;32m--> 740\u001b[0;31m         \u001b[0msuper\u001b[0m\u001b[0;34m(\u001b[0m\u001b[0;34m)\u001b[0m\u001b[0;34m.\u001b[0m\u001b[0m__init__\u001b[0m\u001b[0;34m(\u001b[0m\u001b[0mopen\u001b[0m\u001b[0;34m(\u001b[0m\u001b[0mname\u001b[0m\u001b[0;34m,\u001b[0m \u001b[0mmode\u001b[0m\u001b[0;34m)\u001b[0m\u001b[0;34m)\u001b[0m\u001b[0;34m\u001b[0m\u001b[0;34m\u001b[0m\u001b[0m\n\u001b[0m\u001b[1;32m    741\u001b[0m \u001b[0;34m\u001b[0m\u001b[0m\n\u001b[1;32m    742\u001b[0m     \u001b[0;32mdef\u001b[0m \u001b[0m__exit__\u001b[0m\u001b[0;34m(\u001b[0m\u001b[0mself\u001b[0m\u001b[0;34m,\u001b[0m \u001b[0;34m*\u001b[0m\u001b[0margs\u001b[0m\u001b[0;34m)\u001b[0m\u001b[0;34m:\u001b[0m\u001b[0;34m\u001b[0m\u001b[0;34m\u001b[0m\u001b[0m\n",
            "\u001b[0;31mFileNotFoundError\u001b[0m: [Errno 2] No such file or directory: 'railway_traffic_model.pth'"
          ]
        }
      ]
    },
    {
      "cell_type": "markdown",
      "metadata": {
        "id": "eb3caa23"
      },
      "source": [
        "## Simulate resolved state\n",
        "\n",
        "### Subtask:\n",
        "Based on the model's recommendations, create a new graph representation showing the state after the conflicts are resolved. This will be the \"after\" visualization data.\n"
      ]
    },
    {
      "cell_type": "markdown",
      "metadata": {
        "id": "12807529"
      },
      "source": [
        "**Reasoning**:\n",
        "I need to simulate the state after applying the recommended action. This involves creating a copy of the initial state data and updating the conflict lists based on the recommended action. Since the previous attempt to load the model failed, I will assume the recommended action is available from the previous successful execution where `recommended_action_index` was calculated.\n",
        "\n"
      ]
    },
    {
      "cell_type": "code",
      "metadata": {
        "colab": {
          "base_uri": "https://localhost:8080/"
        },
        "id": "2b771486",
        "outputId": "f13232e7-0d21-4702-f43c-f29c46cf7e27"
      },
      "source": [
        "# Assuming recommended_action_index is available from the previous successful step\n",
        "# Let's define it here for demonstration purposes based on the output of the last successful model run\n",
        "# Predicted action probabilities:\n",
        "# tensor([[0.3320, 0.2961, 0.3719]])\n",
        "# Recommended action: 2. Reroute train\n",
        "recommended_action_index = 2\n",
        "\n",
        "# Create a copy of the initial state data\n",
        "resolved_state_data = initial_state_data.clone()\n",
        "\n",
        "# Determine the conflicts remaining after the recommended action\n",
        "# This is a simplified simulation. In a real scenario, the action's effect\n",
        "# on conflicts would depend on the specific conflict and action.\n",
        "# Action 0 (Pass): Might resolve a conflict on a shared track if the train passes first.\n",
        "# Action 1 (Hold): Might resolve a conflict at a junction by waiting.\n",
        "# Action 2 (Reroute): Might resolve conflicts on the original path by changing the route.\n",
        "\n",
        "# For this example, let's assume:\n",
        "# - Action 0 (Pass) resolves the edge conflict (1, 2).\n",
        "# - Action 1 (Hold) resolves the node conflict at 1.\n",
        "# - Action 2 (Reroute) resolves both the node conflict at 1 and the edge conflict (1, 2).\n",
        "\n",
        "resolved_conflicted_nodes = initial_conflicted_nodes.copy()\n",
        "resolved_conflicted_edges = initial_conflicted_edges.copy()\n",
        "\n",
        "if recommended_action_index == 0: # Pass\n",
        "    # Assume passing resolves the edge conflict (1, 2)\n",
        "    if (1, 2) in resolved_conflicted_edges:\n",
        "        resolved_conflicted_edges.remove((1, 2))\n",
        "elif recommended_action_index == 1: # Hold\n",
        "    # Assume holding resolves the node conflict at 1\n",
        "    if 1 in resolved_conflicted_nodes:\n",
        "        resolved_conflicted_nodes.remove(1)\n",
        "elif recommended_action_index == 2: # Reroute\n",
        "    # Assume rerouting resolves both node conflict at 1 and edge conflict (1, 2)\n",
        "    if 1 in resolved_conflicted_nodes:\n",
        "        resolved_conflicted_nodes.remove(1)\n",
        "    if (1, 2) in resolved_conflicted_edges:\n",
        "        resolved_conflicted_edges.remove((1, 2))\n",
        "\n",
        "# Print the simulated resolved state data and remaining conflicts\n",
        "print(\"Resolved state graph data:\")\n",
        "print(resolved_state_data)\n",
        "print(\"\\nConflicts remaining after recommended action:\")\n",
        "print(\"Nodes:\", resolved_conflicted_nodes)\n",
        "print(\"Edges:\", resolved_conflicted_edges)"
      ],
      "execution_count": 13,
      "outputs": [
        {
          "output_type": "stream",
          "name": "stdout",
          "text": [
            "Resolved state graph data:\n",
            "Data(x=[5, 2], edge_index=[2, 8])\n",
            "\n",
            "Conflicts remaining after recommended action:\n",
            "Nodes: []\n",
            "Edges: []\n"
          ]
        }
      ]
    },
    {
      "cell_type": "markdown",
      "metadata": {
        "id": "b50a3feb"
      },
      "source": [
        "## Visualize states\n",
        "\n",
        "### Subtask:\n",
        "Visualize the \"before\" and \"after\" states of the train station graph using the previously defined visualization function.\n"
      ]
    },
    {
      "cell_type": "markdown",
      "metadata": {
        "id": "dad5833c"
      },
      "source": [
        "**Reasoning**:\n",
        "Visualize the initial and resolved states of the railway graph using the previously defined visualization function.\n",
        "\n"
      ]
    },
    {
      "cell_type": "code",
      "metadata": {
        "colab": {
          "base_uri": "https://localhost:8080/",
          "height": 1000
        },
        "id": "61e22b82",
        "outputId": "8b396ede-3fba-413b-c496-b08b2f94d94d"
      },
      "source": [
        "# Visualize the state before applying the model's recommendation\n",
        "visualize_railway_graph(initial_state_data, conflicted_edges=initial_conflicted_edges, conflicted_nodes=initial_conflicted_nodes)\n",
        "\n",
        "# Visualize the state after applying the model's recommendation\n",
        "visualize_railway_graph(resolved_state_data, conflicted_edges=resolved_conflicted_edges, conflicted_nodes=resolved_conflicted_nodes)"
      ],
      "execution_count": 15,
      "outputs": [
        {
          "output_type": "display_data",
          "data": {
            "text/plain": [
              "<Figure size 1000x800 with 1 Axes>"
            ],
            "image/png": "[encoded data removed]"
          },
          "metadata": {}
        },
        {
          "output_type": "display_data",
          "data": {
            "text/plain": [
              "<Figure size 1000x800 with 1 Axes>"
            ],
            "image/png": "[encoded data removed]"
          },
          "metadata": {}
        }
      ]
    },
    {
      "cell_type": "markdown",
      "metadata": {
        "id": "98ada603"
      },
      "source": [
        "## Explain the visualizations\n",
        "\n",
        "### Subtask:\n",
        "Add markdown cells to explain what the visualizations show, highlighting how the model's recommendations resolved the conflicts.\n"
      ]
    },
    {
      "cell_type": "markdown",
      "metadata": {
        "id": "9054a92e"
      },
      "source": [
        "**Reasoning**:\n",
        "Add a markdown cell to explain the first visualization, describing the graph and the conflicts.\n",
        "\n"
      ]
    },
    {
      "cell_type": "code",
      "metadata": {
        "colab": {
          "base_uri": "https://localhost:8080/",
          "height": 106
        },
        "id": "48a28108",
        "outputId": "10704264-6350-4538-b6d5-f8f3fe22045f"
      },
      "source": [
        "```markdown\n",
        "## Visualization: Before Conflict Resolution\n",
        "\n",
        "This visualization shows the initial state of the railway network. The nodes represent stations or junctions, and the edges represent railway tracks.\n",
        "\n",
        "*   **Graph Structure:** The network consists of 5 nodes (labeled 0 through 4) and several bidirectional edges connecting them. Node 1 appears to be a key junction connecting nodes 0, 2, and 3.\n",
        "*   **Conflicts:** The nodes and edges highlighted in red indicate potential conflicts in this initial state:\n",
        "    *   **Node 1 (red):** This node is highlighted as a conflicted node, suggesting a potential issue at this junction. This could represent a situation where multiple trains are scheduled to arrive or depart from this junction simultaneously, or there are capacity limitations causing a bottleneck.\n",
        "    *   **Edge (1, 2) (red):** This edge, connecting Node 1 and Node 2, is highlighted as a conflicted edge. This could signify a section of track where two trains are on a collision course, or where a single track needs to be used by trains moving in opposite directions at the same time, leading to a conflict that needs to be resolved."
      ],
      "execution_count": 18,
      "outputs": [
        {
          "output_type": "error",
          "ename": "SyntaxError",
          "evalue": "invalid syntax (ipython-input-1551100669.py, line 1)",
          "traceback": [
            "\u001b[0;36m  File \u001b[0;32m\"/tmp/ipython-input-1551100669.py\"\u001b[0;36m, line \u001b[0;32m1\u001b[0m\n\u001b[0;31m    ```markdown\u001b[0m\n\u001b[0m    ^\u001b[0m\n\u001b[0;31mSyntaxError\u001b[0m\u001b[0;31m:\u001b[0m invalid syntax\n"
          ]
        }
      ]
    },
    {
      "cell_type": "markdown",
      "metadata": {
        "id": "11072f14"
      },
      "source": [
        "**Reasoning**:\n",
        "Add a markdown cell to explain the first visualization, describing the graph and the conflicts.\n",
        "\n"
      ]
    },
    {
      "cell_type": "code",
      "metadata": {
        "id": "7I2Gu6Epr787"
      },
      "source": [
        "# This is a placeholder cell to add a markdown cell below.\n",
        "# The actual markdown content will be in the next cell."
      ],
      "execution_count": 19,
      "outputs": []
    },
    {
      "cell_type": "markdown",
      "metadata": {
        "id": "d6e54cde"
      },
      "source": [
        "**Reasoning**:\n",
        "Add a markdown cell to explain the first visualization, describing the graph and the conflicts.\n",
        "\n"
      ]
    },
    {
      "cell_type": "code",
      "metadata": {
        "colab": {
          "base_uri": "https://localhost:8080/",
          "height": 106
        },
        "id": "7cc42e93",
        "outputId": "77be256a-55f6-4c13-d4cb-fcdea4b62c5a"
      },
      "source": [
        "```markdown\n",
        "## Visualization: Before Conflict Resolution\n",
        "\n",
        "This visualization shows the initial state of the railway network. The nodes represent stations or junctions, and the edges represent railway tracks.\n",
        "\n",
        "*   **Graph Structure:** The network consists of 5 nodes (labeled 0 through 4) and several bidirectional edges connecting them. Node 1 appears to be a key junction connecting nodes 0, 2, and 3.\n",
        "*   **Conflicts:** The nodes and edges highlighted in red indicate potential conflicts in this initial state:\n",
        "    *   **Node 1 (red):** This node is highlighted as a conflicted node, suggesting a potential issue at this junction. This could represent a situation where multiple trains are scheduled to arrive or depart from this junction simultaneously, or there are capacity limitations causing a bottleneck.\n",
        "    *   **Edge (1, 2) (red):** This edge, connecting Node 1 and Node 2, is highlighted as a conflicted edge. This could signify a section of track where two trains are on a collision course, or where a single track needs to be used by trains moving in opposite directions at the same time, leading to a conflict that needs to be resolved."
      ],
      "execution_count": 20,
      "outputs": [
        {
          "output_type": "error",
          "ename": "SyntaxError",
          "evalue": "invalid syntax (ipython-input-1551100669.py, line 1)",
          "traceback": [
            "\u001b[0;36m  File \u001b[0;32m\"/tmp/ipython-input-1551100669.py\"\u001b[0;36m, line \u001b[0;32m1\u001b[0m\n\u001b[0;31m    ```markdown\u001b[0m\n\u001b[0m    ^\u001b[0m\n\u001b[0;31mSyntaxError\u001b[0m\u001b[0;31m:\u001b[0m invalid syntax\n"
          ]
        }
      ]
    },
    {
      "cell_type": "markdown",
      "metadata": {
        "id": "3543899a"
      },
      "source": [
        "**Reasoning**:\n",
        "Add a markdown cell to explain the second visualization, describing how the conflicts were resolved based on the model's recommendation.\n",
        "\n"
      ]
    },
    {
      "cell_type": "code",
      "metadata": {
        "id": "mH2zvSs-sBoj"
      },
      "source": [
        "# This is a placeholder cell to add a markdown cell below.\n",
        "# The actual markdown content will be in the next cell."
      ],
      "execution_count": 21,
      "outputs": []
    },
    {
      "cell_type": "markdown",
      "metadata": {
        "id": "0bcf0612"
      },
      "source": [
        "**Reasoning**:\n",
        "Add a markdown cell to explain the second visualization, describing how the conflicts were resolved based on the model's recommendation.\n",
        "\n"
      ]
    },
    {
      "cell_type": "code",
      "metadata": {
        "colab": {
          "base_uri": "https://localhost:8080/",
          "height": 106
        },
        "id": "6a0c2b69",
        "outputId": "40f5e86a-b0ae-41d6-92b5-8f37702effb5"
      },
      "source": [
        "```markdown\n",
        "## Visualization: After Conflict Resolution\n",
        "\n",
        "This visualization shows the state of the railway network after applying the model's recommended action.\n",
        "\n",
        "Based on the model's prediction, the recommended action was to **Reroute the train** (Action 2). In our simplified simulation of conflict resolution:\n",
        "\n",
        "*   The node conflict at Node 1 has been resolved. This could be because the rerouted train no longer needs to pass through this congested junction.\n",
        "*   The edge conflict on Edge (1, 2) has also been resolved. This is likely a direct result of the rerouting, as the train is now using an alternative path and avoids this conflicted track segment.\n",
        "\n",
        "The absence of red highlighting on Node 1 and Edge (1, 2) in this visualization indicates that the simulated application of the \"Reroute\" action successfully mitigated the identified conflicts, leading to a potentially smoother and safer railway operation."
      ],
      "execution_count": 22,
      "outputs": [
        {
          "output_type": "error",
          "ename": "SyntaxError",
          "evalue": "unterminated string literal (detected at line 4) (ipython-input-3453039515.py, line 4)",
          "traceback": [
            "\u001b[0;36m  File \u001b[0;32m\"/tmp/ipython-input-3453039515.py\"\u001b[0;36m, line \u001b[0;32m4\u001b[0m\n\u001b[0;31m    This visualization shows the state of the railway network after applying the model's recommended action.\u001b[0m\n\u001b[0m                                                                                      ^\u001b[0m\n\u001b[0;31mSyntaxError\u001b[0m\u001b[0;31m:\u001b[0m unterminated string literal (detected at line 4)\n"
          ]
        }
      ]
    }
  ]
}